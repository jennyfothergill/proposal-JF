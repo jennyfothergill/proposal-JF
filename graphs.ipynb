{
 "cells": [
  {
   "cell_type": "code",
   "execution_count": 1,
   "metadata": {},
   "outputs": [],
   "source": [
    "import matplotlib.pyplot as plt\n",
    "import numpy as np"
   ]
  },
  {
   "cell_type": "code",
   "execution_count": 2,
   "metadata": {},
   "outputs": [],
   "source": [
    "eps = 1\n",
    "sig = 1\n",
    "def lj(r, eps=eps, sig=sig):\n",
    "    return 4*eps*((sig/r)**12-(sig/r)**6)\n",
    "\n",
    "rs = np.linspace(0.1,5,500)"
   ]
  },
  {
   "cell_type": "code",
   "execution_count": 3,
   "metadata": {},
   "outputs": [
    {
     "data": {
      "image/png": "[encoded data removed]",
      "text/plain": [
       "<Figure size 432x288 with 1 Axes>"
      ]
     },
     "metadata": {
      "needs_background": "light"
     },
     "output_type": "display_data"
    }
   ],
   "source": [
    "fig, ax = plt.subplots()"
   ]
  },
  {
   "cell_type": "code",
   "execution_count": 4,
   "metadata": {},
   "outputs": [],
   "source": [
    "\n",
    "ax.plot(rs, lj(rs), color=\"b\")\n",
    "\n",
    "ax.text(sig/2,lj(sig)+0.1, r\"$\\sigma$\", color=\"r\")\n",
    "ax.plot((0,sig),(0,lj(sig)), marker=\"|\", markersize=15, mew=2, color =\"r\")\n",
    "\n",
    "minsig = 2**(1/6)*sig\n",
    "ax.text(minsig/2,lj(minsig)+0.1, r\"$2^{1/6}\\sigma$\", color=\"orange\")\n",
    "ax.plot((0,minsig),(-eps,lj(minsig)), marker=\"|\", markersize=15, mew=2, color =\"orange\")\n",
    "\n",
    "ax.text(minsig+0.1,-eps/2, r\"$\\epsilon$\", color=\"green\")\n",
    "ax.plot((minsig,minsig),(0,-eps), marker=\"_\", markersize=15, mew=2, color =\"green\")\n",
    "\n",
    "ax.set_xlabel(\"Distance, r\")\n",
    "ax.set_ylabel(r\"Energy, $U_{LJ}$\")\n",
    "ax.set_ylim(-(eps+0.1),eps)\n",
    "ax.set_xlim(-.1, 3*sig)\n",
    "ax.set_xticks([])\n",
    "ax.set_yticks([])\n",
    "ax.axhline(y=0, color='k', linewidth=0.5)\n",
    "ax.axvline(x=0, color='k', linewidth=0.5)\n",
    "\n",
    "fig.savefig('lj.pdf', bbox_inches='tight')"
   ]
  },
  {
   "cell_type": "code",
   "execution_count": 16,
   "metadata": {},
   "outputs": [
    {
     "name": "stdout",
     "output_type": "stream",
     "text": [
      "Help on method axhline in module matplotlib.axes._axes:\n",
      "\n",
      "axhline(y=0, xmin=0, xmax=1, **kwargs) method of matplotlib.axes._subplots.AxesSubplot instance\n",
      "    Add a horizontal line across the axis.\n",
      "    \n",
      "    Parameters\n",
      "    ----------\n",
      "    y : scalar, optional, default: 0\n",
      "        y position in data coordinates of the horizontal line.\n",
      "    \n",
      "    xmin : scalar, optional, default: 0\n",
      "        Should be between 0 and 1, 0 being the far left of the plot, 1 the\n",
      "        far right of the plot.\n",
      "    \n",
      "    xmax : scalar, optional, default: 1\n",
      "        Should be between 0 and 1, 0 being the far left of the plot, 1 the\n",
      "        far right of the plot.\n",
      "    \n",
      "    Returns\n",
      "    -------\n",
      "    line : `~matplotlib.lines.Line2D`\n",
      "    \n",
      "    Other Parameters\n",
      "    ----------------\n",
      "    **kwargs\n",
      "        Valid keyword arguments are `.Line2D` properties, with the\n",
      "        exception of 'transform':\n",
      "    \n",
      "        Properties:\n",
      "        agg_filter: a filter function, which takes a (m, n, 3) float array and a dpi value, and returns a (m, n, 3) array\n",
      "        alpha: float or None\n",
      "        animated: bool\n",
      "        antialiased or aa: bool\n",
      "        clip_box: `.Bbox`\n",
      "        clip_on: bool\n",
      "        clip_path: Patch or (Path, Transform) or None\n",
      "        color or c: color\n",
      "        contains: callable\n",
      "        dash_capstyle: {'butt', 'round', 'projecting'}\n",
      "        dash_joinstyle: {'miter', 'round', 'bevel'}\n",
      "        dashes: sequence of floats (on/off ink in points) or (None, None)\n",
      "        data: (2, N) array or two 1D arrays\n",
      "        drawstyle or ds: {'default', 'steps', 'steps-pre', 'steps-mid', 'steps-post'}, default: 'default'\n",
      "        figure: `.Figure`\n",
      "        fillstyle: {'full', 'left', 'right', 'bottom', 'top', 'none'}\n",
      "        gid: str\n",
      "        in_layout: bool\n",
      "        label: object\n",
      "        linestyle or ls: {'-', '--', '-.', ':', '', (offset, on-off-seq), ...}\n",
      "        linewidth or lw: float\n",
      "        marker: marker style\n",
      "        markeredgecolor or mec: color\n",
      "        markeredgewidth or mew: float\n",
      "        markerfacecolor or mfc: color\n",
      "        markerfacecoloralt or mfcalt: color\n",
      "        markersize or ms: float\n",
      "        markevery: None or int or (int, int) or slice or List[int] or float or (float, float)\n",
      "        path_effects: `.AbstractPathEffect`\n",
      "        picker: float or callable[[Artist, Event], Tuple[bool, dict]]\n",
      "        pickradius: float\n",
      "        rasterized: bool or None\n",
      "        sketch_params: (scale: float, length: float, randomness: float)\n",
      "        snap: bool or None\n",
      "        solid_capstyle: {'butt', 'round', 'projecting'}\n",
      "        solid_joinstyle: {'miter', 'round', 'bevel'}\n",
      "        transform: `matplotlib.transforms.Transform`\n",
      "        url: str\n",
      "        visible: bool\n",
      "        xdata: 1D array\n",
      "        ydata: 1D array\n",
      "        zorder: float\n",
      "    \n",
      "    See also\n",
      "    --------\n",
      "    hlines : Add horizontal lines in data coordinates.\n",
      "    axhspan : Add a horizontal span (rectangle) across the axis.\n",
      "    \n",
      "    Examples\n",
      "    --------\n",
      "    * draw a thick red hline at 'y' = 0 that spans the xrange::\n",
      "    \n",
      "        >>> axhline(linewidth=4, color='r')\n",
      "    \n",
      "    * draw a default hline at 'y' = 1 that spans the xrange::\n",
      "    \n",
      "        >>> axhline(y=1)\n",
      "    \n",
      "    * draw a default hline at 'y' = .5 that spans the middle half of\n",
      "      the xrange::\n",
      "    \n",
      "        >>> axhline(y=.5, xmin=0.25, xmax=0.75)\n",
      "\n"
     ]
    }
   ],
   "source": [
    "help(ax.axhline)"
   ]
  },
  {
   "cell_type": "code",
   "execution_count": null,
   "metadata": {},
   "outputs": [],
   "source": []
  }
 ],
 "metadata": {
  "kernelspec": {
   "display_name": "Python 3",
   "language": "python",
   "name": "python3"
  },
  "language_info": {
   "codemirror_mode": {
    "name": "ipython",
    "version": 3
   },
   "file_extension": ".py",
   "mimetype": "text/x-python",
   "name": "python",
   "nbconvert_exporter": "python",
   "pygments_lexer": "ipython3",
   "version": "3.7.6"
  }
 },
 "nbformat": 4,
 "nbformat_minor": 4
}
